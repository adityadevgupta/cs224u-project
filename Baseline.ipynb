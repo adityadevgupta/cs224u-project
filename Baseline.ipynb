{
 "cells": [
  {
   "cell_type": "code",
   "execution_count": 1,
   "metadata": {
    "collapsed": true
   },
   "outputs": [],
   "source": [
    "import numpy as np"
   ]
  },
  {
   "cell_type": "code",
   "execution_count": 9,
   "metadata": {
    "collapsed": false
   },
   "outputs": [
    {
     "name": "stdout",
     "output_type": "stream",
     "text": [
      "3063 data points loaded\n"
     ]
    },
    {
     "data": {
      "text/plain": [
       "((2450, 3), (613, 3), (2450, 3), (613,))"
      ]
     },
     "execution_count": 9,
     "metadata": {},
     "output_type": "execute_result"
    }
   ],
   "source": [
    "dat = np.load('data/consolidations/yak_cons_2015-05-27 14:01:41.586356.npy')\n",
    "print len(dat), \"data points loaded\"\n",
    "cutoff = 0.8*len(dat)\n",
    "X_raw_train, X_raw_test = dat[:cutoff, 1:4], dat[cutoff:, 1:4]\n",
    "y_train, y_test = dat[:cutoff, 4], dat[cutoff:, 4]\n",
    "X_raw_train.shape, X_raw_test.shape, X_raw_train.shape, y_test.shape, "
   ]
  },
  {
   "cell_type": "code",
   "execution_count": 6,
   "metadata": {
    "collapsed": true
   },
   "outputs": [],
   "source": [
    "def featurize(location_name, handle, message):\n",
    "    return np.random.uniform(-1, 1, size=(5))"
   ]
  },
  {
   "cell_type": "code",
   "execution_count": 8,
   "metadata": {
    "collapsed": false
   },
   "outputs": [
    {
     "data": {
      "text/plain": [
       "array([-0.1799834 ,  0.75769608,  0.0722592 , -0.96577102, -0.32279842])"
      ]
     },
     "execution_count": 8,
     "metadata": {},
     "output_type": "execute_result"
    }
   ],
   "source": [
    "X = np.array([featurize(yak[1], yak[2], yak[3]) for yak in data])\n",
    "X_train = X[:cutoff]\n",
    "X_test = X[cutoff:]"
   ]
  },
  {
   "cell_type": "code",
   "execution_count": null,
   "metadata": {
    "collapsed": true
   },
   "outputs": [],
   "source": []
  }
 ],
 "metadata": {
  "kernelspec": {
   "display_name": "Python 2",
   "language": "python",
   "name": "python2"
  },
  "language_info": {
   "codemirror_mode": {
    "name": "ipython",
    "version": 2
   },
   "file_extension": ".py",
   "mimetype": "text/x-python",
   "name": "python",
   "nbconvert_exporter": "python",
   "pygments_lexer": "ipython2",
   "version": "2.7.9"
  }
 },
 "nbformat": 4,
 "nbformat_minor": 0
}
