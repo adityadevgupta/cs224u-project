{
 "cells": [
  {
   "cell_type": "code",
   "execution_count": 1,
   "metadata": {
    "collapsed": false
   },
   "outputs": [],
   "source": [
    "import sys # to import files in other directories\n",
    "import numpy as np\n",
    "import sklearn\n",
    "import csv\n",
    "\n",
    "from features import *\n",
    "from collections import defaultdict\n",
    "\n",
    "from sklearn.feature_extraction import DictVectorizer\n",
    "from sklearn.feature_selection import SelectFpr, chi2\n",
    "from sklearn.linear_model import LogisticRegression\n",
    "from sklearn.grid_search import GridSearchCV\n",
    "from sklearn.cross_validation import cross_val_score\n",
    "from sklearn import metrics\n",
    "\n",
    "# sys.path.insert(0, 'class_resources/')\n",
    "# from distributedwordreps import build, ShallowNeuralNetwork"
   ]
  },
  {
   "cell_type": "code",
   "execution_count": 2,
   "metadata": {
    "collapsed": false
   },
   "outputs": [
    {
     "name": "stdout",
     "output_type": "stream",
     "text": [
      "3063 data points loaded\n"
     ]
    }
   ],
   "source": [
    "dat = np.load('data/consolidations/yak_cons_2015-05-27 14:01:41.586356.npy')\n",
    "print len(dat), \"data points loaded\"\n",
    "\n",
    "# since the rows of the database are sorted by time, we should shuffle the data set\n",
    "# so that the train and test sets both cover the same time periods.\n",
    "np.random.shuffle(dat)\n",
    "cutoff = 4*len(dat)/5"
   ]
  },
  {
   "cell_type": "code",
   "execution_count": 3,
   "metadata": {
    "collapsed": false
   },
   "outputs": [],
   "source": [
    "X = dat[:,1:4]\n",
    "cutoff = int(0.8*len(X))\n",
    "X_train = X[:cutoff]\n",
    "X_test = X[cutoff:]\n",
    "y = [1 if float(val) < 0 else -1 for val in dat[:,4]]\n",
    "y = y[:]\n",
    "y_train, y_test = y[:cutoff], y[cutoff:]"
   ]
  },
  {
   "cell_type": "code",
   "execution_count": 4,
   "metadata": {
    "collapsed": false
   },
   "outputs": [],
   "source": [
    "def featurizer(X, y, feature_function):\n",
    "    \"\"\"Map the data in reader to a list of features according to feature_function,\n",
    "    and create the gold label vector.\"\"\"\n",
    "    feats = []\n",
    "    labels = []\n",
    "    split_index = None\n",
    "    for yak, label in zip(X, y):\n",
    "        d = feature_function(yak)\n",
    "        feats.append(d)\n",
    "        labels.append(label)              \n",
    "    return (feats, labels)"
   ]
  },
  {
   "cell_type": "code",
   "execution_count": 5,
   "metadata": {
    "collapsed": false
   },
   "outputs": [],
   "source": [
    "def random_feature(yak):\n",
    "    features = defaultdict(float)\n",
    "    features[\"random_feature\"] = np.random.random()\n",
    "    return features"
   ]
  },
  {
   "cell_type": "code",
   "execution_count": 6,
   "metadata": {
    "collapsed": false
   },
   "outputs": [],
   "source": [
    "def train_classifier(\n",
    "        X,\n",
    "        y,\n",
    "        feature_function,\n",
    "        feature_selector=SelectFpr(chi2, alpha=0.05), # Use None to stop feature selection\n",
    "        cv=10, # Number of folds used in cross-validation\n",
    "        priorlims=np.arange(.1, 3.1, .1)): # regularization priors to explore (we expect something around 1)\n",
    "    # Featurize the data:\n",
    "    feats, labels = featurizer(X, y, feature_function) \n",
    "    \n",
    "    # Map the count dictionaries to a sparse feature matrix:\n",
    "    vectorizer = DictVectorizer(sparse=False)\n",
    "    X = vectorizer.fit_transform(feats)\n",
    "\n",
    "    ##### FEATURE SELECTION    \n",
    "    # (An optional step; not always productive). By default, we select all\n",
    "    # the features that pass the chi2 test of association with the\n",
    "    # class labels at p < 0.05. sklearn.feature_selection has other\n",
    "    # methods that are worth trying. I've seen particularly good results\n",
    "    # with the model-based methods, which require some changes to the\n",
    "    # current code.\n",
    "    feat_matrix = None\n",
    "    if feature_selector:\n",
    "        feat_matrix = feature_selector.fit_transform(X, labels)\n",
    "    else:\n",
    "        feat_matrix = X\n",
    "    \n",
    "    ##### HYPER-PARAMETER SEARCH\n",
    "    # Define the basic model to use for parameter search:\n",
    "    searchmod = LogisticRegression(fit_intercept=True, intercept_scaling=1)\n",
    "    # Parameters to grid-search over:\n",
    "    parameters = {'C':priorlims, 'penalty':['l1','l2']}  \n",
    "    # Cross-validation grid search to find the best hyper-parameters:   \n",
    "    clf = GridSearchCV(searchmod, parameters, cv=cv)\n",
    "    clf.fit(feat_matrix, labels)\n",
    "    params = clf.best_params_\n",
    "\n",
    "    # Establish the model we want using the parameters obtained from the search:\n",
    "    mod = LogisticRegression(fit_intercept=True, intercept_scaling=1, C=params['C'], penalty=params['penalty'])\n",
    "\n",
    "    ##### ASSESSMENT              \n",
    "    # Cross-validation of our favored model; for other summaries, use different\n",
    "    # values for scoring: http://scikit-learn.org/dev/modules/model_evaluation.html\n",
    "    scores = cross_val_score(mod, feat_matrix, labels, cv=cv, scoring=\"f1_macro\")       \n",
    "    print 'Best model', mod\n",
    "    print '%s features selected out of %s total' % (feat_matrix.shape[1], X.shape[1])\n",
    "    print 'F1 mean: %0.2f (+/- %0.2f)' % (scores.mean(), scores.std()*2)\n",
    "\n",
    "    # TRAIN OUR MODEL:\n",
    "    mod.fit(feat_matrix, labels)\n",
    "\n",
    "    # Return the trained model along with the objects we need to\n",
    "    # featurize test data in a way that aligns with our training\n",
    "    # matrix:\n",
    "    return (mod, vectorizer, feature_selector, feature_function)\n"
   ]
  },
  {
   "cell_type": "code",
   "execution_count": 8,
   "metadata": {
    "collapsed": false
   },
   "outputs": [],
   "source": [
    "# this will be an array of function pointers\n",
    "# all_feature_generators = [random_feature]\n",
    "all_feature_generators = [#random_feature,\n",
    "                          bigram_feature, \n",
    "                          cap_feature,\n",
    "                         punc_feature,\n",
    "                         imbalance_feature,\n",
    "                          interrogative_feature,\n",
    "                         ]\n",
    "\n",
    "def get_all_features(fs):\n",
    "    def total_feature_fn(yak):\n",
    "        features = defaultdict(float)\n",
    "        for f in fs:\n",
    "            features.update(f(yak))\n",
    "        return features\n",
    "    return total_feature_fn\n",
    "\n",
    "all_features = get_all_features(all_feature_generators)"
   ]
  },
  {
   "cell_type": "code",
   "execution_count": 9,
   "metadata": {
    "collapsed": false
   },
   "outputs": [
    {
     "ename": "NameError",
     "evalue": "global name 'features' is not defined",
     "output_type": "error",
     "traceback": [
      "\u001b[0;31m---------------------------------------------------------------------------\u001b[0m",
      "\u001b[0;31mNameError\u001b[0m                                 Traceback (most recent call last)",
      "\u001b[0;32m<ipython-input-9-3d2db15c0746>\u001b[0m in \u001b[0;36m<module>\u001b[0;34m()\u001b[0m\n\u001b[0;32m----> 1\u001b[0;31m \u001b[0mmodel\u001b[0m \u001b[0;34m=\u001b[0m \u001b[0mtrain_classifier\u001b[0m\u001b[0;34m(\u001b[0m\u001b[0mX_train\u001b[0m\u001b[0;34m,\u001b[0m \u001b[0my_train\u001b[0m\u001b[0;34m,\u001b[0m \u001b[0mall_features\u001b[0m\u001b[0;34m)\u001b[0m\u001b[0;34m\u001b[0m\u001b[0m\n\u001b[0m",
      "\u001b[0;32m<ipython-input-6-bd7af92c1b45>\u001b[0m in \u001b[0;36mtrain_classifier\u001b[0;34m(X, y, feature_function, feature_selector, cv, priorlims)\u001b[0m\n\u001b[1;32m      7\u001b[0m         priorlims=np.arange(.1, 3.1, .1)): # regularization priors to explore (we expect something around 1)\n\u001b[1;32m      8\u001b[0m     \u001b[0;31m# Featurize the data:\u001b[0m\u001b[0;34m\u001b[0m\u001b[0;34m\u001b[0m\u001b[0m\n\u001b[0;32m----> 9\u001b[0;31m     \u001b[0mfeats\u001b[0m\u001b[0;34m,\u001b[0m \u001b[0mlabels\u001b[0m \u001b[0;34m=\u001b[0m \u001b[0mfeaturizer\u001b[0m\u001b[0;34m(\u001b[0m\u001b[0mX\u001b[0m\u001b[0;34m,\u001b[0m \u001b[0my\u001b[0m\u001b[0;34m,\u001b[0m \u001b[0mfeature_function\u001b[0m\u001b[0;34m)\u001b[0m\u001b[0;34m\u001b[0m\u001b[0m\n\u001b[0m\u001b[1;32m     10\u001b[0m \u001b[0;34m\u001b[0m\u001b[0m\n\u001b[1;32m     11\u001b[0m     \u001b[0;31m# Map the count dictionaries to a sparse feature matrix:\u001b[0m\u001b[0;34m\u001b[0m\u001b[0;34m\u001b[0m\u001b[0m\n",
      "\u001b[0;32m<ipython-input-4-fedcb1a2de40>\u001b[0m in \u001b[0;36mfeaturizer\u001b[0;34m(X, y, feature_function)\u001b[0m\n\u001b[1;32m      6\u001b[0m     \u001b[0msplit_index\u001b[0m \u001b[0;34m=\u001b[0m \u001b[0mNone\u001b[0m\u001b[0;34m\u001b[0m\u001b[0m\n\u001b[1;32m      7\u001b[0m     \u001b[0;32mfor\u001b[0m \u001b[0myak\u001b[0m\u001b[0;34m,\u001b[0m \u001b[0mlabel\u001b[0m \u001b[0;32min\u001b[0m \u001b[0mzip\u001b[0m\u001b[0;34m(\u001b[0m\u001b[0mX\u001b[0m\u001b[0;34m,\u001b[0m \u001b[0my\u001b[0m\u001b[0;34m)\u001b[0m\u001b[0;34m:\u001b[0m\u001b[0;34m\u001b[0m\u001b[0m\n\u001b[0;32m----> 8\u001b[0;31m         \u001b[0md\u001b[0m \u001b[0;34m=\u001b[0m \u001b[0mfeature_function\u001b[0m\u001b[0;34m(\u001b[0m\u001b[0myak\u001b[0m\u001b[0;34m)\u001b[0m\u001b[0;34m\u001b[0m\u001b[0m\n\u001b[0m\u001b[1;32m      9\u001b[0m         \u001b[0mfeats\u001b[0m\u001b[0;34m.\u001b[0m\u001b[0mappend\u001b[0m\u001b[0;34m(\u001b[0m\u001b[0md\u001b[0m\u001b[0;34m)\u001b[0m\u001b[0;34m\u001b[0m\u001b[0m\n\u001b[1;32m     10\u001b[0m         \u001b[0mlabels\u001b[0m\u001b[0;34m.\u001b[0m\u001b[0mappend\u001b[0m\u001b[0;34m(\u001b[0m\u001b[0mlabel\u001b[0m\u001b[0;34m)\u001b[0m\u001b[0;34m\u001b[0m\u001b[0m\n",
      "\u001b[0;32m<ipython-input-8-f5dd0c005eb8>\u001b[0m in \u001b[0;36mtotal_feature_fn\u001b[0;34m(yak)\u001b[0m\n\u001b[1;32m     13\u001b[0m         \u001b[0mfeatures\u001b[0m \u001b[0;34m=\u001b[0m \u001b[0mdefaultdict\u001b[0m\u001b[0;34m(\u001b[0m\u001b[0mfloat\u001b[0m\u001b[0;34m)\u001b[0m\u001b[0;34m\u001b[0m\u001b[0m\n\u001b[1;32m     14\u001b[0m         \u001b[0;32mfor\u001b[0m \u001b[0mf\u001b[0m \u001b[0;32min\u001b[0m \u001b[0mfs\u001b[0m\u001b[0;34m:\u001b[0m\u001b[0;34m\u001b[0m\u001b[0m\n\u001b[0;32m---> 15\u001b[0;31m             \u001b[0mfeatures\u001b[0m\u001b[0;34m.\u001b[0m\u001b[0mupdate\u001b[0m\u001b[0;34m(\u001b[0m\u001b[0mf\u001b[0m\u001b[0;34m(\u001b[0m\u001b[0myak\u001b[0m\u001b[0;34m)\u001b[0m\u001b[0;34m)\u001b[0m\u001b[0;34m\u001b[0m\u001b[0m\n\u001b[0m\u001b[1;32m     16\u001b[0m         \u001b[0;32mreturn\u001b[0m \u001b[0mfeatures\u001b[0m\u001b[0;34m\u001b[0m\u001b[0m\n\u001b[1;32m     17\u001b[0m     \u001b[0;32mreturn\u001b[0m \u001b[0mtotal_feature_fn\u001b[0m\u001b[0;34m\u001b[0m\u001b[0m\n",
      "\u001b[0;32m/Users/prithvi/Desktop/cs224u/project/cs224u-project/features.py\u001b[0m in \u001b[0;36mcap_feature\u001b[0;34m(yak)\u001b[0m\n\u001b[1;32m     25\u001b[0m     \u001b[0mthresh\u001b[0m \u001b[0;34m=\u001b[0m \u001b[0;36m4\u001b[0m \u001b[0;31m# for alternative feature below\u001b[0m\u001b[0;34m\u001b[0m\u001b[0m\n\u001b[1;32m     26\u001b[0m     \u001b[0;32mfor\u001b[0m \u001b[0mj\u001b[0m \u001b[0;32min\u001b[0m \u001b[0mrange\u001b[0m\u001b[0;34m(\u001b[0m\u001b[0mlen\u001b[0m\u001b[0;34m(\u001b[0m\u001b[0myak\u001b[0m\u001b[0;34m[\u001b[0m\u001b[0;36m2\u001b[0m\u001b[0;34m]\u001b[0m\u001b[0;34m)\u001b[0m\u001b[0;34m)\u001b[0m\u001b[0;34m:\u001b[0m\u001b[0;34m\u001b[0m\u001b[0m\n\u001b[0;32m---> 27\u001b[0;31m         \u001b[0mfeatures\u001b[0m\u001b[0;34m[\u001b[0m\u001b[0;34m'Capitalization'\u001b[0m\u001b[0;34m]\u001b[0m \u001b[0;34m+=\u001b[0m \u001b[0mint\u001b[0m\u001b[0;34m(\u001b[0m\u001b[0myak\u001b[0m\u001b[0;34m[\u001b[0m\u001b[0;36m2\u001b[0m\u001b[0;34m]\u001b[0m\u001b[0;34m[\u001b[0m\u001b[0mj\u001b[0m\u001b[0;34m]\u001b[0m\u001b[0;34m.\u001b[0m\u001b[0misupper\u001b[0m\u001b[0;34m(\u001b[0m\u001b[0;34m)\u001b[0m\u001b[0;34m)\u001b[0m\u001b[0;34m\u001b[0m\u001b[0m\n\u001b[0m\u001b[1;32m     28\u001b[0m \u001b[0;31m#     features['Capitalization'] = int(counter >= thresh)\u001b[0m\u001b[0;34m\u001b[0m\u001b[0;34m\u001b[0m\u001b[0m\n\u001b[1;32m     29\u001b[0m     \u001b[0;32mreturn\u001b[0m \u001b[0mfeatures\u001b[0m\u001b[0;34m\u001b[0m\u001b[0m\n",
      "\u001b[0;31mNameError\u001b[0m: global name 'features' is not defined"
     ]
    }
   ],
   "source": [
    "model = train_classifier(X_train, y_train, all_features)"
   ]
  },
  {
   "cell_type": "code",
   "execution_count": 40,
   "metadata": {
    "collapsed": true
   },
   "outputs": [],
   "source": [
    "def evaluate_trained_classifier(model, X, y):\n",
    "    \"\"\"Evaluate model, the output of train_classifier, on the data in reader.\"\"\"\n",
    "    mod, vectorizer, feature_selector, feature_function = model\n",
    "    print feature_function\n",
    "    feats, labels = featurizer(X, y, feature_function)\n",
    "    feat_matrix = vectorizer.transform(feats)\n",
    "    if feature_selector:\n",
    "        feat_matrix = feature_selector.transform(feat_matrix)\n",
    "    predictions = mod.predict(feat_matrix)\n",
    "#     print predictions\n",
    "#     print y\n",
    "    return metrics.classification_report(labels, predictions)"
   ]
  },
  {
   "cell_type": "code",
   "execution_count": null,
   "metadata": {
    "collapsed": true
   },
   "outputs": [],
   "source": []
  },
  {
   "cell_type": "code",
   "execution_count": 41,
   "metadata": {
    "collapsed": false
   },
   "outputs": [
    {
     "name": "stdout",
     "output_type": "stream",
     "text": [
      "======================================================================\n",
      "Train\n",
      "<function total_feature_fn at 0x10b520938>\n",
      "             precision    recall  f1-score   support\n",
      "\n",
      "         -1       0.74      1.00      0.85      1808\n",
      "          1       1.00      0.00      0.00       642\n",
      "\n",
      "avg / total       0.81      0.74      0.63      2450\n",
      "\n",
      "======================================================================\n",
      "Dev\n",
      "<function total_feature_fn at 0x10b520938>\n",
      "             precision    recall  f1-score   support\n",
      "\n",
      "         -1       0.75      1.00      0.86       462\n",
      "          1       0.00      0.00      0.00       151\n",
      "\n",
      "avg / total       0.57      0.75      0.65       613\n",
      "\n"
     ]
    },
    {
     "name": "stderr",
     "output_type": "stream",
     "text": [
      "/Users/prithvi/anaconda/lib/python2.7/site-packages/sklearn/metrics/classification.py:958: UndefinedMetricWarning: Precision and F-score are ill-defined and being set to 0.0 in labels with no predicted samples.\n",
      "  'precision', 'predicted', average, warn_for)\n"
     ]
    }
   ],
   "source": [
    "for readername, X, y in (('Train', X_train, y_train), ('Dev', X_test, y_test)):\n",
    "    print \"======================================================================\"\n",
    "    print readername\n",
    "    print evaluate_trained_classifier(model, X, y)"
   ]
  },
  {
   "cell_type": "code",
   "execution_count": 83,
   "metadata": {
    "collapsed": false
   },
   "outputs": [
    {
     "data": {
      "text/plain": [
       "defaultdict(<type 'float'>, {'a': 1.0, 'c': 2.0, 'b': 1.0})"
      ]
     },
     "execution_count": 83,
     "metadata": {},
     "output_type": "execute_result"
    }
   ],
   "source": [
    "d1 = defaultdict(float)\n",
    "d2 = defaultdict(float)\n",
    "d1[\"a\"] = 1.0\n",
    "d1[\"b\"] = 2.0\n",
    "d2[\"b\"] = 1.0\n",
    "d2[\"c\"] = 2.0\n",
    "d1.update(d2)\n",
    "d1"
   ]
  },
  {
   "cell_type": "code",
   "execution_count": null,
   "metadata": {
    "collapsed": true
   },
   "outputs": [],
   "source": []
  }
 ],
 "metadata": {
  "kernelspec": {
   "display_name": "Python 2",
   "language": "python",
   "name": "python2"
  },
  "language_info": {
   "codemirror_mode": {
    "name": "ipython",
    "version": 2
   },
   "file_extension": ".py",
   "mimetype": "text/x-python",
   "name": "python",
   "nbconvert_exporter": "python",
   "pygments_lexer": "ipython2",
   "version": "2.7.9"
  }
 },
 "nbformat": 4,
 "nbformat_minor": 0
}
