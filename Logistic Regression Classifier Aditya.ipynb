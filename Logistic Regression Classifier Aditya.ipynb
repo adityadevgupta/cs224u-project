{
 "cells": [
  {
   "cell_type": "code",
   "execution_count": 13,
   "metadata": {
    "collapsed": false
   },
   "outputs": [],
   "source": [
    "import sys # to import files in other directories\n",
    "import numpy as np\n",
    "import sklearn\n",
    "import csv\n",
    "import nltk\n",
    "\n",
    "# from features import *\n",
    "from collections import defaultdict\n",
    "\n",
    "from sklearn.feature_extraction import DictVectorizer\n",
    "from sklearn.feature_selection import SelectFpr, chi2\n",
    "from sklearn.linear_model import LogisticRegression\n",
    "from sklearn.grid_search import GridSearchCV\n",
    "from sklearn.cross_validation import cross_val_score\n",
    "from sklearn import metrics\n",
    "from sklearn.feature_selection import SelectFpr, chi2, RFE\n",
    "\n",
    "# sys.path.insert(0, 'class_resources/')\n",
    "# from distributedwordreps import build, ShallowNeuralNetwork\n"
   ]
  },
  {
   "cell_type": "code",
   "execution_count": 14,
   "metadata": {
    "collapsed": false
   },
   "outputs": [
    {
     "name": "stdout",
     "output_type": "stream",
     "text": [
      "7101 data points loaded\n"
     ]
    }
   ],
   "source": [
    "dat = np.load('data/consolidations/yak_cons_2015-06-06 19-42-38.950644.npy')\n",
    "print len(dat), \"data points loaded\"\n",
    "\n",
    "# since the rows of the database are sorted by time, we should shuffle the data set\n",
    "# so that the train and test sets both cover the same time periods.\n",
    "np.random.shuffle(dat)\n",
    "cutoff = 4*len(dat)/5"
   ]
  },
  {
   "cell_type": "code",
   "execution_count": 15,
   "metadata": {
    "collapsed": false
   },
   "outputs": [
    {
     "name": "stdout",
     "output_type": "stream",
     "text": [
      "1839 5262\n"
     ]
    }
   ],
   "source": [
    "X = dat[:,1:4]\n",
    "y = [1 if float(val) < 0 else -1 for val in dat[:,4]]\n",
    "pos = [ind for ind, y_i in enumerate(y) if y_i == 1]\n",
    "neg = [ind for ind, y_i in enumerate(y) if y_i == -1]\n",
    "print len(pos),len(neg)\n",
    "cutoff = int(0.6*len(X))\n",
    "cutoff_2 = int(0.8*len(X))\n",
    "X_train, X_dev, X_test = X[:cutoff], X[cutoff:cutoff_2], X[cutoff_2:]\n",
    "# X_train = X[:cutoff]\n",
    "# X_test = X[cutoff:]\n",
    "y = y[:]\n",
    "\n",
    "y_train, y_dev, y_test = y[:cutoff], y[cutoff:cutoff_2], y[cutoff_2:]\n",
    "# y_train, y_test = y[:cutoff], y[cutoff:]"
   ]
  },
  {
   "cell_type": "code",
   "execution_count": 16,
   "metadata": {
    "collapsed": false
   },
   "outputs": [],
   "source": [
    "def featurizer(X, y, feature_function):\n",
    "    \"\"\"Map the data in reader to a list of features according to feature_function,\n",
    "    and create the gold label vector.\"\"\"\n",
    "    feats = []\n",
    "    labels = []\n",
    "    split_index = None\n",
    "    for yak, label in zip(X, y):\n",
    "        d = feature_function(yak)\n",
    "        feats.append(d)\n",
    "        labels.append(label)              \n",
    "    return (feats, labels)"
   ]
  },
  {
   "cell_type": "code",
   "execution_count": 17,
   "metadata": {
    "collapsed": false
   },
   "outputs": [],
   "source": [
    "def random_feature(yak):\n",
    "    features = defaultdict(float)\n",
    "    for i in range(10):\n",
    "        features[\"random_feature\" + str(i)] = np.random.random()\n",
    "    return features"
   ]
  },
  {
   "cell_type": "code",
   "execution_count": 18,
   "metadata": {
    "collapsed": false
   },
   "outputs": [],
   "source": [
    "def train_classifier(\n",
    "        X,\n",
    "        y,\n",
    "        feature_function,\n",
    "        feature_selector=SelectFpr(chi2, alpha=0.05), # Use None to stop feature selection\n",
    "        cv=10, # Number of folds used in cross-validation\n",
    "        priorlims=np.arange(.1, 3.1, .1)): # regularization priors to explore (we expect something around 1)\n",
    "    # Featurize the data:\n",
    "    feats, labels = featurizer(X, y, feature_function) \n",
    "        \n",
    "    # Map the count dictionaries to a sparse feature matrix:\n",
    "    vectorizer = DictVectorizer(sparse=False)\n",
    "    X = vectorizer.fit_transform(feats)\n",
    "#     print X.shape\n",
    "#     print \"y.shape\"\n",
    "#     print y.shape\n",
    "    ##### FEATURE SELECTION    \n",
    "    # (An optional step; not always productive). By default, we select all\n",
    "    # the features that pass the chi2 test of association with the\n",
    "    # class labels at p < 0.05. sklearn.feature_selection has other\n",
    "    # methods that are worth trying. I've seen particularly good results\n",
    "    # with the model-based methods, which require some changes to the\n",
    "    # current code.\n",
    "    feat_matrix = None\n",
    "    if feature_selector:\n",
    "        feat_matrix = feature_selector.fit_transform(X, labels)\n",
    "    else:\n",
    "        feat_matrix = X\n",
    "    \n",
    "    ##### HYPER-PARAMETER SEARCH\n",
    "    # Define the basic model to use for parameter search:\n",
    "    searchmod = LogisticRegression(fit_intercept=True, intercept_scaling=1)\n",
    "    # Parameters to grid-search over:\n",
    "    parameters = {'C':priorlims, 'penalty':['l1','l2']}  \n",
    "    # Cross-validation grid search to find the best hyper-parameters:   \n",
    "    clf = GridSearchCV(searchmod, parameters, cv=cv)\n",
    "    clf.fit(feat_matrix, labels)\n",
    "    params = clf.best_params_\n",
    "\n",
    "    # Establish the model we want using the parameters obtained from the search:\n",
    "    mod = LogisticRegression(fit_intercept=True, intercept_scaling=1, C=params['C'], penalty=params['penalty'])\n",
    "\n",
    "    ##### ASSESSMENT              \n",
    "    # Cross-validation of our favored model; for other summaries, use different\n",
    "    # values for scoring: http://scikit-learn.org/dev/modules/model_evaluation.html\n",
    "    scores = cross_val_score(mod, feat_matrix, labels, cv=cv, scoring=\"f1_macro\")       \n",
    "    print 'Best model', mod\n",
    "    print '%s features selected out of %s total' % (feat_matrix.shape[1], X.shape[1])\n",
    "    print 'F1 mean: %0.2f (+/- %0.2f)' % (scores.mean(), scores.std()*2)\n",
    "\n",
    "    # TRAIN OUR MODEL:\n",
    "    mod.fit(feat_matrix, labels)\n",
    "\n",
    "    # Return the trained model along with the objects we need to\n",
    "    # featurize test data in a way that aligns with our training\n",
    "    # matrix:\n",
    "    return (mod, vectorizer, feature_selector, feature_function)\n"
   ]
  },
  {
   "cell_type": "code",
   "execution_count": 19,
   "metadata": {
    "collapsed": false
   },
   "outputs": [],
   "source": [
    "# Warriner et. al. affect score import\n",
    "lines = [line.rstrip('\\n').split(\",\") for line in open('Ratings_Warriner_et_al.csv')]\n",
    "WARRINER_AFFECT = {}\n",
    "for line in lines[1:]:\n",
    "    WARRINER_AFFECT[line[1].lower()] = float(line[2])\n",
    "    \n",
    "# SentiStrength score importing\n",
    "lines = [line.rstrip('\\n') for line in open('SentStrength_Data_Sept2011/EmotionLookupTable.txt')]\n",
    "line_splits = [line.split() for line in lines]\n",
    "SENTI_STRENGTH = {}\n",
    "for line in line_splits:\n",
    "    SENTI_STRENGTH[line[0].rstrip('*')] =  float(line[1])\n",
    "    \n",
    "# Booster word list\n",
    "lines = [line.rstrip('\\n') for line in open('SentStrength_Data_Sept2011/BoosterWordList.txt')]\n",
    "line_splits = [line.split() for line in lines]\n",
    "SENTI_STRENGTH = {}\n",
    "for line in line_splits:\n",
    "    SENTI_STRENGTH[line[0].rstrip('*')] =  float(line[1])\n",
    "    "
   ]
  },
  {
   "cell_type": "code",
   "execution_count": 20,
   "metadata": {
    "collapsed": true
   },
   "outputs": [],
   "source": [
    "def build_word_counts(X_train):\n",
    "    counts = defaultdict(float)\n",
    "    for yak in X_train:\n",
    "        text = yak[2].lower()\n",
    "        tokens = [word for sent in nltk.tokenize.sent_tokenize(text) for word in nltk.tokenize.word_tokenize(sent)]\n",
    "        words = filter(lambda word: word not in ',-', tokens)\n",
    "        for word in words:\n",
    "            counts[word] += 1\n",
    "    return counts\n",
    "word_counts = build_word_counts(X_train)"
   ]
  },
  {
   "cell_type": "code",
   "execution_count": 21,
   "metadata": {
    "collapsed": true
   },
   "outputs": [],
   "source": [
    "dictionary_words = set(line.rstrip('\\n').lower() for line in open('/usr/share/dict/words'))"
   ]
  },
  {
   "cell_type": "code",
   "execution_count": 22,
   "metadata": {
    "collapsed": true
   },
   "outputs": [],
   "source": [
    "import string\n",
    "\n",
    "''' FEATURE FUNCTIONS\n",
    "'''\n",
    "\n",
    "def spelling_feature(yak):\n",
    "    features = defaultdict(float)\n",
    "    text = yak[2].lower()\n",
    "    tokens = [word for sent in nltk.tokenize.sent_tokenize(text) for word in nltk.tokenize.word_tokenize(sent)]\n",
    "    words = filter(lambda word: word not in ',-', tokens)\n",
    "    \n",
    "    num_correct = 0\n",
    "    num_total = len(words)\n",
    "    for word in words:\n",
    "        if word in dictionary_words:\n",
    "            num_correct += 1\n",
    "    features[\"correct_spelling_\" + yak[0]] = float(num_correct / num_total)\n",
    "    \n",
    "    return features\n",
    "\n",
    "def word_count_feature(yak):\n",
    "    features = defaultdict(float)\n",
    "    text = yak[2].lower()\n",
    "    tokens = [word for sent in nltk.tokenize.sent_tokenize(text) for word in nltk.tokenize.word_tokenize(sent)]\n",
    "    words = filter(lambda word: word not in ',-', tokens)\n",
    "    counts = [word_counts[word] for word in words]\n",
    "    features[\"num_zero_count_words\"] = counts.count(0) if len(counts) > 0 else 0\n",
    "    features[\"max_count_word\"] = max(counts) if len(counts) > 0 else 0\n",
    "    nonzeros = [count for count in counts if count > 0]\n",
    "    features[\"min_count_word\"] = min(nonzeros) if len(nonzeros) > 0 else 0\n",
    "    return features\n",
    "\n",
    "# Capitalization counter\n",
    "# https://github.com/MathieuCliche/Sarcasm_detector\n",
    "def cap_feature(yak):\n",
    "    features = defaultdict(float)\n",
    "    counter = 0\n",
    "    thresh = 4 # for alternative feature below\n",
    "    for j in range(len(yak[2])):\n",
    "        counter += int(yak[2][j].isupper())\n",
    "        #features['Capitalization'] += int(yak[2][j].isupper())\n",
    "    features['Capitalization'] = int(counter >= thresh)\n",
    "    return features\n",
    "\n",
    "def cap_propor_feature(yak):\n",
    "    features = defaultdict(float)\n",
    "    counter = 0\n",
    "    for j in range(len(yak[2])):\n",
    "        counter += int(yak[2][j].isupper())\n",
    "    features[\"Caps Proportion\"] = float(counter / len(yak[2]))\n",
    "    return features\n",
    "    \n",
    "# Punctuation\n",
    "punc_marks = ['.', '...', ';', ':', '?', '!', '\\'', '\\\"', '-', '(', ')', '*', ',']\n",
    "def punc_feature(yak):\n",
    "    features = defaultdict(float)\n",
    "    punc_total = 0\n",
    "    for i in punc_marks:\n",
    "        punc_total += float(i in yak[2])\n",
    "        features[('Punctuation ' + i)] += float(i in yak[2])\n",
    "    return features\n",
    "\n",
    "# Delta affect\n",
    "def imbalance_feature(yak):\n",
    "    features = defaultdict(float)\n",
    "    words = yak[2].split(\" \")\n",
    "    affect = np.array([])\n",
    "    senti = np.array([])\n",
    "\n",
    "    for word in words:\n",
    "        if word.lower() in WARRINER_AFFECT:\n",
    "            affect = np.append(affect, WARRINER_AFFECT[word.lower()])\n",
    "        if word.lower() in SENTI_STRENGTH:\n",
    "            senti = np.append(senti, SENTI_STRENGTH[word.lower()])  \n",
    "    \n",
    "    if affect.size > 0:\n",
    "        features[\"Delta Affect\"] = float(np.amax(affect) - np.amin(affect)) \n",
    "    if senti.size > 0:\n",
    "        features[\"Delta Sentiment\"] = float(np.amax(senti) - np.amin(senti)) \n",
    "    \n",
    "    return features\n",
    "    \n",
    "# Is the sentence interrogative?\n",
    "def interrogative_feature(yak):\n",
    "    features = defaultdict(float)\n",
    "    model_words = ['what', 'where', 'when', 'why', 'who']\n",
    "    auxiliary_verbs = ['am', 'is', 'are', 'was', 'were', 'am', 'do', 'did', 'does']\n",
    "    words = yak[2].split(\" \")\n",
    "    \n",
    "    is_interrogative = ((words[0] in model_words) and \n",
    "                        (words[1] in auxiliary_verbs) and ('?' in yak[2]))\n",
    "    features[\"Interrogative\"] = float(is_interrogative)\n",
    "    return features\n",
    "\n",
    "# \"section leader\" and \"section leaders\"\n",
    "# punctuation cutting off yaks.\n",
    "def bigram_feature(yak):\n",
    "    features = defaultdict(float)\n",
    "    words = yak[2].lower().split()\n",
    "    school = yak[0]\n",
    "    for ind in xrange(len(words) - 1):\n",
    "        features[(school, words[ind], words[ind + 1])] += 1.0\n",
    "    return features\n",
    "\n",
    "# does the yak contain a handle?\n",
    "def handle_feature(yak):\n",
    "    features = defaultdict(float)\n",
    "    features[\"Handle\"] = float(yak[1] != '')\n",
    "    return features\n",
    "\n",
    "def handle_school_feature(yak):\n",
    "    features = defaultdict(float)\n",
    "    features[(yak[0],yak[1].lower())] += 1.0\n",
    "    return features\n",
    "\n",
    "# PRITHVI'S NEW STUFF\n",
    "\n",
    "def trigram_feature(yak):\n",
    "    features = defaultdict(float)\n",
    "    words = yak[2].lower().split()\n",
    "    school = yak[0]\n",
    "    for ind in xrange(len(words) - 2):\n",
    "        features[(school, words[ind], words[ind + 1], words[ind + 2])] += 1.0\n",
    "    return features\n",
    "\n",
    "def unigram_feature(yak):\n",
    "    features = defaultdict(float)\n",
    "    text = yak[2]\n",
    "    tokens = [word for sent in nltk.tokenize.sent_tokenize(text) for word in nltk.tokenize.word_tokenize(sent)]\n",
    "    words = filter(lambda word: word not in ',-', tokens)\n",
    "    for word in words:\n",
    "        features[word] += 1.0\n",
    "    return features\n",
    "\n",
    "def emoji_feature(yak):\n",
    "    features = defaultdict(float)\n",
    "    text = yak[2]\n",
    "    \n",
    "    for ch in text:\n",
    "        if ch not in string.ascii_letters:\n",
    "            features['Emoji ' + ch] += float(1)\n",
    "            \n",
    "    return features\n",
    "\n",
    "def school_name(yak):\n",
    "    features = defaultdict(float)\n",
    "    features['School_name_' + yak[0]] = 1.0\n",
    "    return features"
   ]
  },
  {
   "cell_type": "code",
   "execution_count": 23,
   "metadata": {
    "collapsed": false
   },
   "outputs": [],
   "source": [
    "# this will be an array of function pointers\n",
    "# all_feature_generators = [random_feature]\n",
    "all_feature_generators = [#random_feature,\n",
    "#                           bigram_feature, \n",
    "#                           cap_feature,\n",
    "                         punc_feature,\n",
    "                         imbalance_feature,\n",
    "                          interrogative_feature,\n",
    "                        handle_feature,\n",
    "                        handle_school_feature,\n",
    "#                         cap_propor_feature,\n",
    "                        unigram_feature,\n",
    "                        word_count_feature,\n",
    "                        spelling_feature,\n",
    "                        emoji_feature\n",
    "                         ]\n",
    "\n",
    "def get_all_features(fs):\n",
    "    def total_feature_fn(yak):\n",
    "        features = defaultdict(float)\n",
    "        for f in fs:\n",
    "            features.update(f(yak))\n",
    "        return features\n",
    "    return total_feature_fn\n",
    "\n",
    "all_features = get_all_features(all_feature_generators)"
   ]
  },
  {
   "cell_type": "code",
   "execution_count": 24,
   "metadata": {
    "collapsed": false
   },
   "outputs": [
    {
     "name": "stdout",
     "output_type": "stream",
     "text": [
      "Best model LogisticRegression(C=3.0000000000000004, class_weight=None, dual=False,\n",
      "          fit_intercept=True, intercept_scaling=1, max_iter=100,\n",
      "          multi_class='ovr', penalty='l1', random_state=None,\n",
      "          solver='liblinear', tol=0.0001, verbose=0)\n",
      "464 features selected out of 9510 total\n",
      "F1 mean: 0.68 (+/- 0.05)\n"
     ]
    }
   ],
   "source": [
    "model = train_classifier(X_train, y_train, all_features)"
   ]
  },
  {
   "cell_type": "code",
   "execution_count": 143,
   "metadata": {
    "collapsed": true
   },
   "outputs": [],
   "source": [
    "def evaluate_trained_classifier(model, X, y):\n",
    "    \"\"\"Evaluate model, the output of train_classifier, on the data in reader.\"\"\"\n",
    "    mod, vectorizer, feature_selector, feature_function = model\n",
    "    print feature_function\n",
    "    feats, labels = featurizer(X, y, feature_function)\n",
    "    feat_matrix = vectorizer.transform(feats)\n",
    "    if feature_selector:\n",
    "        feat_matrix = feature_selector.transform(feat_matrix)\n",
    "    predictions = mod.predict(feat_matrix)\n",
    "#     print predictions\n",
    "#     print y\n",
    "    return metrics.classification_report(labels, predictions)"
   ]
  },
  {
   "cell_type": "code",
   "execution_count": 150,
   "metadata": {
    "collapsed": false
   },
   "outputs": [
    {
     "name": "stdout",
     "output_type": "stream",
     "text": [
      "======================================================================\n",
      "Train\n",
      "<function total_feature_fn at 0x1135d6758>\n",
      "             precision    recall  f1-score   support\n",
      "\n",
      "         -1       0.83      0.97      0.90      3159\n",
      "          1       0.84      0.44      0.58      1101\n",
      "\n",
      "avg / total       0.83      0.83      0.81      4260\n",
      "\n",
      "======================================================================\n",
      "Dev\n",
      "<function total_feature_fn at 0x1135d6758>\n",
      "             precision    recall  f1-score   support\n",
      "\n",
      "         -1       0.85      0.97      0.91      1071\n",
      "          1       0.85      0.47      0.60       349\n",
      "\n",
      "avg / total       0.85      0.85      0.83      1420\n",
      "\n",
      "======================================================================\n",
      "Test\n",
      "<function total_feature_fn at 0x1135d6758>\n",
      "             precision    recall  f1-score   support\n",
      "\n",
      "         -1       0.82      0.96      0.89      1032\n",
      "          1       0.82      0.45      0.58       389\n",
      "\n",
      "avg / total       0.82      0.82      0.80      1421\n",
      "\n"
     ]
    }
   ],
   "source": [
    "for readername, X, y in (('Train', X_train, y_train), ('Dev', X_dev, y_dev), ('Test', X_test, y_test)):\n",
    "    print \"======================================================================\"\n",
    "    print readername\n",
    "    print evaluate_trained_classifier(model, X, y)"
   ]
  },
  {
   "cell_type": "code",
   "execution_count": 83,
   "metadata": {
    "collapsed": false
   },
   "outputs": [
    {
     "data": {
      "text/plain": [
       "defaultdict(<type 'float'>, {'a': 1.0, 'c': 2.0, 'b': 1.0})"
      ]
     },
     "execution_count": 83,
     "metadata": {},
     "output_type": "execute_result"
    }
   ],
   "source": [
    "d1 = defaultdict(float)\n",
    "d2 = defaultdict(float)\n",
    "d1[\"a\"] = 1.0\n",
    "d1[\"b\"] = 2.0\n",
    "d2[\"b\"] = 1.0\n",
    "d2[\"c\"] = 2.0\n",
    "d1.update(d2)\n",
    "d1"
   ]
  },
  {
   "cell_type": "code",
   "execution_count": null,
   "metadata": {
    "collapsed": true
   },
   "outputs": [],
   "source": []
  }
 ],
 "metadata": {
  "kernelspec": {
   "display_name": "Python 2",
   "language": "python",
   "name": "python2"
  },
  "language_info": {
   "codemirror_mode": {
    "name": "ipython",
    "version": 2
   },
   "file_extension": ".py",
   "mimetype": "text/x-python",
   "name": "python",
   "nbconvert_exporter": "python",
   "pygments_lexer": "ipython2",
   "version": "2.7.6"
  }
 },
 "nbformat": 4,
 "nbformat_minor": 0
}
