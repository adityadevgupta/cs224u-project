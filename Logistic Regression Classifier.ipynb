{
 "cells": [
  {
   "cell_type": "code",
   "execution_count": 2,
   "metadata": {
    "collapsed": false
   },
   "outputs": [],
   "source": [
    "import sys # to import files in other directories\n",
    "import numpy as np\n",
    "import sklearn\n",
    "import csv\n",
    "\n",
    "from features import *\n",
    "from collections import defaultdict\n",
    "\n",
    "from sklearn.feature_extraction import DictVectorizer\n",
    "from sklearn.feature_selection import SelectFpr, chi2\n",
    "from sklearn.linear_model import LogisticRegression\n",
    "from sklearn.grid_search import GridSearchCV\n",
    "from sklearn.cross_validation import cross_val_score\n",
    "from sklearn import metrics\n",
    "\n",
    "# sys.path.insert(0, 'class_resources/')\n",
    "# from distributedwordreps import build, ShallowNeuralNetwork"
   ]
  },
  {
   "cell_type": "code",
   "execution_count": 8,
   "metadata": {
    "collapsed": false
   },
   "outputs": [
    {
     "name": "stdout",
     "output_type": "stream",
     "text": [
      "6376 data points loaded\n"
     ]
    },
    {
     "data": {
      "text/plain": [
       "array([[u'R/5565171da143656c690b064aceedc', u'vanderbilt', u'',\n",
       "        u'If you let a dog eat as much as it wants will it just pop?',\n",
       "        u'1.0'],\n",
       "       [u'R/5566462a18cd6080b61dc44a168f2', u'dartmouth', u'',\n",
       "        u'Is foco open?', u'-inf'],\n",
       "       [u'R/556a9ac4033f4ea262e42f8e5fec2', u'northwestern', u'',\n",
       "        u'I kinda wanna stay a virgin', u'37.0'],\n",
       "       [u'R/55652b4610de040042205c2bff795', u'northwestern', u'',\n",
       "        u\"8 AM me: I'll go to the gym tonight     8 PM me: I'll go to Taco Bell tonight \",\n",
       "        u'75.0'],\n",
       "       [u'R/556634a9993c54f0f43a43c50459a', u'dartmouth', u'',\n",
       "        u'PSA Collis market is closed but Collis is still selling salad and premade food right now ',\n",
       "        u'8.0'],\n",
       "       [u'R/55651ede800ff62621aa9575c9edc', u'harvard', u'',\n",
       "        u\"Someone just told me I'm cool because other black people freak them out... still trying to figure it out\",\n",
       "        u'11.0'],\n",
       "       [u'R/55651ddef043cf3371337ad987adf', u'northwestern', u'',\n",
       "        u\"My prayers tonight go out to the Shapiro family. I can't imagine what they must be feeling right now\",\n",
       "        u'-inf'],\n",
       "       [u'R/5567752d47f160f0419294c312070', u'notre dame', u'',\n",
       "        u\"Red canoe is out in full force today. I've seen 3 going back to midnight! \",\n",
       "        u'7.0'],\n",
       "       [u'R/556518d87f153b728a12934c1ae5f', u'chicago', u'',\n",
       "        u'Algerian girl, worked at Harper cafe today at 5.. Name?', u'-inf'],\n",
       "       [u'R/556637803977004cdae5bed36438c', u'uc berkeley', u'new low',\n",
       "        u'I had to set an alarm for 3:00 pm ', u'88.0']], \n",
       "      dtype='<U200')"
      ]
     },
     "execution_count": 8,
     "metadata": {},
     "output_type": "execute_result"
    }
   ],
   "source": [
    "dat = np.load('data/consolidations/yak_cons_2015-06-01 02-03-55.904056.npy')\n",
    "print len(dat), \"data points loaded\"\n",
    "\n",
    "# since the rows of the database are sorted by time, we should shuffle the data set\n",
    "# so that the train and test sets both cover the same time periods.\n",
    "np.random.shuffle(dat)\n",
    "cutoff = 4*len(dat)/5\n",
    "\n",
    "(dat)"
   ]
  },
  {
   "cell_type": "code",
   "execution_count": 4,
   "metadata": {
    "collapsed": false
   },
   "outputs": [
    {
     "name": "stdout",
     "output_type": "stream",
     "text": [
      "1665 4711\n"
     ]
    },
    {
     "data": {
      "text/plain": [
       "array([[u'penn', u'',\n",
       "        u'Any other penn students living on spruce street for summer  want to hang out? Lonely AF '],\n",
       "       [u'columbia', u'',\n",
       "        u\"I can live with her Adam's apple and deep voice. But it makes me very insecure that she is packing more than me \"],\n",
       "       [u'dartmouth', u'',\n",
       "        u'Made my bed and accidentally got an engineering degree from Cornell. '],\n",
       "       [u'uc berkeley', u'',\n",
       "        u'I wonder what people who write \"u\" and \"ur\" do with all the extra time'],\n",
       "       [u'uc berkeley', u'',\n",
       "        u\"I wana have a summer love who's down?! Lady 4 lady \\u263a\\ufe0f\"],\n",
       "       [u'dartmouth', u'',\n",
       "        u\"Where is Dartmouth secure working? Im in Dartmouth hall and it's not picking it up here (ironically)\"],\n",
       "       [u'brown', u'',\n",
       "        u'When you find out the girl that you fell for because you thought she was innocent is actually a hoe \\U0001f494'],\n",
       "       [u'rice', u'', u'I love alone time'],\n",
       "       [u'mit', u'', u'b0ss, can i habe de pusi pls'],\n",
       "       [u'harvard', u'',\n",
       "        u\"Everything about her is perfect. Oh except she's married? Plot twist\"]], \n",
       "      dtype='<U200')"
      ]
     },
     "execution_count": 4,
     "metadata": {},
     "output_type": "execute_result"
    }
   ],
   "source": [
    "X = dat[:,1:4]\n",
    "y = [1 if float(val) < 0 else -1 for val in dat[:,4]]\n",
    "pos = [ind for ind, y_i in enumerate(y) if y_i == 1]\n",
    "neg = [ind for ind, y_i in enumerate(y) if y_i == -1]\n",
    "print len(pos),len(neg)\n",
    "cutoff = int(0.8*len(X))\n",
    "X_train = X[:cutoff]\n",
    "X_test = X[cutoff:]\n",
    "y = y[:]\n",
    "y_train, y_test = y[:cutoff], y[cutoff:]"
   ]
  },
  {
   "cell_type": "code",
   "execution_count": 15,
   "metadata": {
    "collapsed": false
   },
   "outputs": [],
   "source": [
    "def featurizer(X, y, feature_function):\n",
    "    \"\"\"Map the data in reader to a list of features according to feature_function,\n",
    "    and create the gold label vector.\"\"\"\n",
    "    feats = []\n",
    "    labels = []\n",
    "    split_index = None\n",
    "    for yak, label in zip(X, y):\n",
    "        d = feature_function(yak)\n",
    "        feats.append(d)\n",
    "        labels.append(label)              \n",
    "    return (feats, labels)"
   ]
  },
  {
   "cell_type": "code",
   "execution_count": 16,
   "metadata": {
    "collapsed": false
   },
   "outputs": [],
   "source": [
    "def random_feature(yak):\n",
    "    features = defaultdict(float)\n",
    "    features[\"random_feature\"] = np.random.random()\n",
    "    return features"
   ]
  },
  {
   "cell_type": "code",
   "execution_count": 17,
   "metadata": {
    "collapsed": false
   },
   "outputs": [],
   "source": [
    "def train_classifier(\n",
    "        X,\n",
    "        y,\n",
    "        feature_function,\n",
    "        feature_selector=SelectFpr(chi2, alpha=0.05), # Use None to stop feature selection\n",
    "        cv=10, # Number of folds used in cross-validation\n",
    "        priorlims=np.arange(.1, 3.1, .1)): # regularization priors to explore (we expect something around 1)\n",
    "    # Featurize the data:\n",
    "    feats, labels = featurizer(X, y, feature_function) \n",
    "    \n",
    "    # Map the count dictionaries to a sparse feature matrix:\n",
    "    vectorizer = DictVectorizer(sparse=False)\n",
    "    X = vectorizer.fit_transform(feats)\n",
    "\n",
    "    ##### FEATURE SELECTION    \n",
    "    # (An optional step; not always productive). By default, we select all\n",
    "    # the features that pass the chi2 test of association with the\n",
    "    # class labels at p < 0.05. sklearn.feature_selection has other\n",
    "    # methods that are worth trying. I've seen particularly good results\n",
    "    # with the model-based methods, which require some changes to the\n",
    "    # current code.\n",
    "    feat_matrix = None\n",
    "    if feature_selector:\n",
    "        feat_matrix = feature_selector.fit_transform(X, labels)\n",
    "    else:\n",
    "        feat_matrix = X\n",
    "    \n",
    "    ##### HYPER-PARAMETER SEARCH\n",
    "    # Define the basic model to use for parameter search:\n",
    "    searchmod = LogisticRegression(fit_intercept=True, intercept_scaling=1)\n",
    "    # Parameters to grid-search over:\n",
    "    parameters = {'C':priorlims, 'penalty':['l1','l2']}  \n",
    "    # Cross-validation grid search to find the best hyper-parameters:   \n",
    "    clf = GridSearchCV(searchmod, parameters, cv=cv)\n",
    "    clf.fit(feat_matrix, labels)\n",
    "    params = clf.best_params_\n",
    "\n",
    "    # Establish the model we want using the parameters obtained from the search:\n",
    "    mod = LogisticRegression(fit_intercept=True, intercept_scaling=1, C=params['C'], penalty=params['penalty'])\n",
    "\n",
    "    ##### ASSESSMENT              \n",
    "    # Cross-validation of our favored model; for other summaries, use different\n",
    "    # values for scoring: http://scikit-learn.org/dev/modules/model_evaluation.html\n",
    "    scores = cross_val_score(mod, feat_matrix, labels, cv=cv, scoring=\"f1_macro\")       \n",
    "    print 'Best model', mod\n",
    "    print '%s features selected out of %s total' % (feat_matrix.shape[1], X.shape[1])\n",
    "    print 'F1 mean: %0.2f (+/- %0.2f)' % (scores.mean(), scores.std()*2)\n",
    "\n",
    "    # TRAIN OUR MODEL:\n",
    "    mod.fit(feat_matrix, labels)\n",
    "\n",
    "    # Return the trained model along with the objects we need to\n",
    "    # featurize test data in a way that aligns with our training\n",
    "    # matrix:\n",
    "    return (mod, vectorizer, feature_selector, feature_function)\n"
   ]
  },
  {
   "cell_type": "code",
   "execution_count": 22,
   "metadata": {
    "collapsed": false
   },
   "outputs": [],
   "source": [
    "# this will be an array of function pointers\n",
    "# all_feature_generators = [random_feature]\n",
    "all_feature_generators = [random_feature,\n",
    "#                           bigram_feature, \n",
    "#                           cap_feature,\n",
    "#                          punc_feature,\n",
    "#                          imbalance_feature,\n",
    "#                           interrogative_feature,\n",
    "                         ]\n",
    "\n",
    "def get_all_features(fs):\n",
    "    def total_feature_fn(yak):\n",
    "        features = defaultdict(float)\n",
    "        for f in fs:\n",
    "            features.update(f(yak))\n",
    "        return features\n",
    "    return total_feature_fn\n",
    "\n",
    "all_features = get_all_features(all_feature_generators)"
   ]
  },
  {
   "cell_type": "code",
   "execution_count": 24,
   "metadata": {
    "collapsed": false
   },
   "outputs": [
    {
     "name": "stdout",
     "output_type": "stream",
     "text": [
      "Best model LogisticRegression(C=0.10000000000000001, class_weight=None, dual=False,\n",
      "          fit_intercept=True, intercept_scaling=1, max_iter=100,\n",
      "          multi_class='ovr', penalty='l1', random_state=None,\n",
      "          solver='liblinear', tol=0.0001, verbose=0)\n",
      "1 features selected out of 1 total\n",
      "F1 mean: 0.43 (+/- 0.00)\n"
     ]
    },
    {
     "name": "stderr",
     "output_type": "stream",
     "text": [
      "/Library/Python/2.7/site-packages/sklearn/metrics/classification.py:958: UndefinedMetricWarning: F-score is ill-defined and being set to 0.0 in labels with no predicted samples.\n",
      "  'precision', 'predicted', average, warn_for)\n"
     ]
    }
   ],
   "source": [
    "model = train_classifier(X_train, y_train, all_features, feature_selector=None, cv=2)"
   ]
  },
  {
   "cell_type": "code",
   "execution_count": 25,
   "metadata": {
    "collapsed": true
   },
   "outputs": [],
   "source": [
    "def evaluate_trained_classifier(model, X, y):\n",
    "    \"\"\"Evaluate model, the output of train_classifier, on the data in reader.\"\"\"\n",
    "    mod, vectorizer, feature_selector, feature_function = model\n",
    "    print feature_function\n",
    "    feats, labels = featurizer(X, y, feature_function)\n",
    "    feat_matrix = vectorizer.transform(feats)\n",
    "    if feature_selector:\n",
    "        feat_matrix = feature_selector.transform(feat_matrix)\n",
    "    predictions = mod.predict(feat_matrix)\n",
    "#     print predictions\n",
    "#     print y\n",
    "    return metrics.classification_report(labels, predictions)"
   ]
  },
  {
   "cell_type": "code",
   "execution_count": null,
   "metadata": {
    "collapsed": true
   },
   "outputs": [],
   "source": []
  },
  {
   "cell_type": "code",
   "execution_count": 26,
   "metadata": {
    "collapsed": false
   },
   "outputs": [
    {
     "name": "stdout",
     "output_type": "stream",
     "text": [
      "======================================================================\n",
      "Train\n",
      "<function total_feature_fn at 0x112deded8>\n",
      "             precision    recall  f1-score   support\n",
      "\n",
      "         -1       0.74      1.00      0.85      3779\n",
      "          1       0.00      0.00      0.00      1321\n",
      "\n",
      "avg / total       0.55      0.74      0.63      5100\n",
      "\n",
      "======================================================================\n",
      "Dev\n",
      "<function total_feature_fn at 0x112deded8>\n",
      "             precision    recall  f1-score   support\n",
      "\n",
      "         -1       0.73      1.00      0.84       932\n",
      "          1       0.00      0.00      0.00       344\n",
      "\n",
      "avg / total       0.53      0.73      0.62      1276\n",
      "\n"
     ]
    },
    {
     "name": "stderr",
     "output_type": "stream",
     "text": [
      "/Library/Python/2.7/site-packages/sklearn/metrics/classification.py:958: UndefinedMetricWarning: Precision and F-score are ill-defined and being set to 0.0 in labels with no predicted samples.\n",
      "  'precision', 'predicted', average, warn_for)\n"
     ]
    }
   ],
   "source": [
    "for readername, X, y in (('Train', X_train, y_train), ('Dev', X_test, y_test)):\n",
    "    print \"======================================================================\"\n",
    "    print readername\n",
    "    print evaluate_trained_classifier(model, X, y)"
   ]
  },
  {
   "cell_type": "code",
   "execution_count": 83,
   "metadata": {
    "collapsed": false
   },
   "outputs": [
    {
     "data": {
      "text/plain": [
       "defaultdict(<type 'float'>, {'a': 1.0, 'c': 2.0, 'b': 1.0})"
      ]
     },
     "execution_count": 83,
     "metadata": {},
     "output_type": "execute_result"
    }
   ],
   "source": [
    "d1 = defaultdict(float)\n",
    "d2 = defaultdict(float)\n",
    "d1[\"a\"] = 1.0\n",
    "d1[\"b\"] = 2.0\n",
    "d2[\"b\"] = 1.0\n",
    "d2[\"c\"] = 2.0\n",
    "d1.update(d2)\n",
    "d1"
   ]
  },
  {
   "cell_type": "code",
   "execution_count": null,
   "metadata": {
    "collapsed": true
   },
   "outputs": [],
   "source": []
  }
 ],
 "metadata": {
  "kernelspec": {
   "display_name": "Python 2",
   "language": "python",
   "name": "python2"
  },
  "language_info": {
   "codemirror_mode": {
    "name": "ipython",
    "version": 2
   },
   "file_extension": ".py",
   "mimetype": "text/x-python",
   "name": "python",
   "nbconvert_exporter": "python",
   "pygments_lexer": "ipython2",
   "version": "2.7.9"
  }
 },
 "nbformat": 4,
 "nbformat_minor": 0
}
