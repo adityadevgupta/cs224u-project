{
 "cells": [
  {
   "cell_type": "code",
   "execution_count": 8,
   "metadata": {
    "collapsed": false
   },
   "outputs": [],
   "source": [
    "from YakGrabber import *\n",
    "\n",
    "import numpy as np"
   ]
  },
  {
   "cell_type": "code",
   "execution_count": 6,
   "metadata": {
    "collapsed": false
   },
   "outputs": [
    {
     "data": {
      "text/plain": [
       "[('princeton', 40.3487, -74.6593),\n",
       " ('harvard', 42.3744, -71.1169),\n",
       " ('yale', 41.3111, -72.9267),\n",
       " ('columbia', 40.8075, -73.9619),\n",
       " ('stanford', 37.43, -122.17),\n",
       " ('chicago', 41.7897, -87.5997),\n",
       " ('mit', 42.3598, -71.0921),\n",
       " ('duke', 36.0011, -78.9389),\n",
       " ('penn', 39.95, -75.19),\n",
       " ('caltech', 34.1386, -118.1255),\n",
       " ('dartmouth', 43.7033, -72.2883),\n",
       " ('johns hopkins', 39.3289, -76.6203),\n",
       " ('northwestern', 42.05598, -87.6752),\n",
       " ('wustl', 38.648, -90.305),\n",
       " ('cornell', 42.48, -76.4511),\n",
       " ('brown', 41.8262, -71.4032),\n",
       " ('notre dame', 41.703, -86.239),\n",
       " ('vanderbilt', 36.1486, -86.805),\n",
       " ('rice', 29.7169, -95.4028),\n",
       " ('uc berkeley', 37.87, -122.259)]"
      ]
     },
     "execution_count": 6,
     "metadata": {},
     "output_type": "execute_result"
    }
   ],
   "source": [
    "lines = [line.rstrip('\\n').split(\", \") for line in open('latlong.csv')]\n",
    "locations = [(line[0].lower(), float(line[1]), float(line[2])) for line in lines]\n",
    "locations"
   ]
  },
  {
   "cell_type": "code",
   "execution_count": 58,
   "metadata": {
    "collapsed": false
   },
   "outputs": [],
   "source": [
    "# Module that handles Yak retrieval, without any preprocessing.\n",
    "# yg.fetch_yaks gets us all the yaks that would appear to a user.\n",
    "# (usually on the order of the 100 most recent yaks)\n",
    "# The location is set to Stanford's lat/long coords, because \n",
    "# that's the location we're interested in.\n",
    "yg = YakGrabber()\n",
    "\n",
    "# We were thinking about having some sort of time limit for yaks to accumulate\n",
    "# upvotes, but that didn't seem objective, since this depends on the activity\n",
    "# of yik yak at the time of the yak: for instance a yak posted at 2am might take\n",
    "# more time to be upvoted properly than a yak posted at 6pm. \n",
    "# Waiting until yaks are no longer in the \"new\" section solves this because \n",
    "# the \"new\" section's size is fixed, and yaks don't leave after some specific time \n",
    "# period.\n",
    "\n",
    "# Set of all yaks that are 'old' and aren't being voted on actively any more\n",
    "# These are either yaks that have been voted off, or yaks that are no longer \n",
    "# found in the recents section. This is an array of tuples of the form \n",
    "# (messageID, handle, message, numberOfLikes)\n",
    "# If the yak was voted off, the numberOfLikes is set to float(\"-inf\")\n",
    "completed_yaks = []\n",
    "\n",
    "# Set of yaks that are still being actively voted on.\n",
    "# This will be a dict, of type: messageID -> [handle, message, numberOfLikes]\n",
    "current_yaks = {}"
   ]
  },
  {
   "cell_type": "code",
   "execution_count": 59,
   "metadata": {
    "collapsed": false
   },
   "outputs": [],
   "source": [
    "# if completed_yaks becomes super big, just make it a numpy array and pickle it or something\n",
    "def handle_new_yak_set(completed_yaks, current_yaks, new_yaks_dict):\n",
    "    # MOVE ALL OLD YAKS INTO completed_yaks\n",
    "    keys_to_remove = set()\n",
    "    for yak_id in current_yaks:\n",
    "        if yak_id not in new_yaks_dict:\n",
    "            # Then the yak is no longer in circulation. This could be for two \n",
    "            # reasons. Either the yak has been voted off, or it is too old.\n",
    "            # it's not actually possible to know exactly which one it is, but \n",
    "            # we simply use the heuristic that if the yak's numberOfLikes \n",
    "            # when it is in current_yaks is negative, we assume that it was voted off\n",
    "            if current_yaks[yak_id][2] < 0:\n",
    "                completed_yaks.append((yak_id, \n",
    "                                       current_yaks[yak_id][0], \n",
    "                                       current_yaks[yak_id][1], \n",
    "                                       float(\"-inf\")))\n",
    "            else:\n",
    "                completed_yaks.append((yak_id, \n",
    "                                       current_yaks[yak_id][0], \n",
    "                                       current_yaks[yak_id][1], \n",
    "                                       float(current_yaks[yak_id][2])))\n",
    "            keys_to_remove.add(yak_id)\n",
    "    for to_del in keys_to_remove:\n",
    "        del current_yaks[to_del]\n",
    "\n",
    "    # UPDATE ALL CURRENT YAKS THAT ARE LEFT\n",
    "    for yak_id in new_yaks_dict:\n",
    "        if yak_id in current_yaks:\n",
    "            current_yaks[yak_id][2] = new_yaks_dict[yak_id][2]\n",
    "        else:\n",
    "            current_yaks[yak_id] = new_yaks_dict[yak_id]"
   ]
  },
  {
   "cell_type": "code",
   "execution_count": 60,
   "metadata": {
    "collapsed": false
   },
   "outputs": [],
   "source": [
    "# TEST CODE FOR THE ABOVE FUNCTION\n",
    "\n",
    "# completed_yaks = []\n",
    "\n",
    "# current_yaks = {}\n",
    "\n",
    "# test_yaks_1 = {\"1\": [\"\", \"message 1\", 2],\n",
    "#                \"2\": [\"\", \"message 2\", -2],\n",
    "#                \"3\": [\"\", \"message 3\", 2],\n",
    "#                \"4\": [\"\", \"message 4\", 2]}\n",
    "\n",
    "# handle_new_yak_set(completed_yaks, current_yaks, test_yaks_1)\n",
    "# print completed_yaks\n",
    "# print current_yaks\n",
    "\n",
    "# test_yaks_2 = {\"1\": [\"\", \"message 1\", 4],\n",
    "#                \"6\": [\"\", \"message 2\", -2],\n",
    "#                \"3\": [\"\", \"message 3\", -1],\n",
    "#                \"5\": [\"\", \"message 5\", 10]}\n",
    "\n",
    "# handle_new_yak_set(completed_yaks, current_yaks, test_yaks_2)\n",
    "# print completed_yaks\n",
    "# print current_yaks"
   ]
  },
  {
   "cell_type": "code",
   "execution_count": 95,
   "metadata": {
    "collapsed": false
   },
   "outputs": [],
   "source": [
    "def make_dict(yaks_arr):\n",
    "    return {yak[\"messageID\"]:[(yak['handle'] if ('handle' in yak) and yak['handle'] else \"\"), \n",
    "                              yak['message'], \n",
    "                              yak['numberOfLikes']] for yak in yaks_arr}\n",
    "most_recent_yaks = yg.fetch_yaks()\n",
    "new_yaks_dict = make_dict(most_recent_yaks)"
   ]
  },
  {
   "cell_type": "code",
   "execution_count": 96,
   "metadata": {
    "collapsed": false
   },
   "outputs": [],
   "source": [
    "handle_new_yak_set(completed_yaks, current_yaks, new_yaks_dict)"
   ]
  },
  {
   "cell_type": "code",
   "execution_count": 97,
   "metadata": {
    "collapsed": false
   },
   "outputs": [
    {
     "name": "stdout",
     "output_type": "stream",
     "text": [
      "[(u'R/55637c257f4242ec0f0179af18e1e', '', u'Happiness at this school is preceded by drive and the guilt that comes from not being able to provide for that drive all the time.', 14.0), (u'R/55637c46150304482e56ac6a6b55c', '', u'Only money buys you time ', 1.0), (u'R/55637c4eac96c74004e22d7291af4', '', u'Money is the power ', 2.0), (u'R/55637d3e3846af4578aefe2dd24fd', u'Uncrushed', u\"Stanford Crushes is ending and I've still never been mentioned.\", 62.0), (u'R/55637eae3832f1cd781b4b2ff0e8b', '', u\"I get why people don't appreciate them, but I personally feel my humanities major is preparing me well for life outside of Stanford\", 83.0), (u'R/55637e958450b6c2f5aab21d0805e', '', u'Is the library open today?', 3.0), (u'R/5563871a60a4461a8a766b7bc5889', '', u'Breaking a mirror is 7 years of bad luck. Breaking a condom is 18 years of bad luck. ', 231.0), (u'R/556386f37ca6188e4bbe53e0b82e6', '', u'Can somebody suggest a good place to get a tattoo around here?', 5.0), (u'R/55637f7dc893da0356bf71301d11b', '', u'Why do I get bored of being in a relationship?', 14.0), (u'R/55637fe0e7d6943dc4f8dfc85cda8', u'ThanksFettyWap', u\"I can't read the year 1738 normally anymore\", 27.0), (u'R/556382601683013db13bac20e36c1', '', u'I have finally come out!! Feels so good! Thank you Jesus!', 59.0), (u'R/5563870eed7fbe0e3ec3cee7918fa', u'my mantra', u'Just two more weeks', 5.0), (u'R/55637fabd5cc2e67da9ae18cfc702', '', u\"Won't have my own room next year, gonna miss walking around pantsless \\U0001f61e\", 45.0), (u'R/5563843216e70b4398fb674139dcd', '', u\"I'm starting to realize that I don't like my roommate, but I already agreed to live together next year. Any advice?\", 17.0), (u'R/55638716c648a11b5a2de5fef6c62', u'On the edge', u\"Is it even worth pursuing someone week 9 when we won't be in the same place for summer?\", 26.0), (u'R/5563d6f0d0440b31f41748d0bb11c', '', u'Any cute girls wanna talk? Dude visiting 19 chilling ', 0.0), (u'R/5563d70f1437efc2b8e6906a70ac1', '', u'Welcome to Stanford: A magical place where dancing at Frost turns you into a white supremacist. ', -inf), (u'R/5563d61e155f6b1f63447a97f7598', '', u'What a fall ', -inf)]\n",
      "102\n"
     ]
    }
   ],
   "source": [
    "print completed_yaks\n",
    "print len(current_yaks)"
   ]
  },
  {
   "cell_type": "code",
   "execution_count": 98,
   "metadata": {
    "collapsed": false
   },
   "outputs": [],
   "source": [
    "import datetime\n",
    "np.save((\"data/yak_grab_\" + str(datetime.datetime.now())), completed_yaks)"
   ]
  },
  {
   "cell_type": "code",
   "execution_count": 100,
   "metadata": {
    "collapsed": false
   },
   "outputs": [
    {
     "data": {
      "text/plain": [
       "array([[u'R/55637c257f4242ec0f0179af18e1e', u'',\n",
       "        u'Happiness at this school is preceded by drive and the guilt that comes from not being able to provide for that drive all the time.',\n",
       "        u'14.0'],\n",
       "       [u'R/55637c46150304482e56ac6a6b55c', u'',\n",
       "        u'Only money buys you time ', u'1.0'],\n",
       "       [u'R/55637c4eac96c74004e22d7291af4', u'', u'Money is the power ',\n",
       "        u'2.0'],\n",
       "       [u'R/55637d3e3846af4578aefe2dd24fd', u'Uncrushed',\n",
       "        u\"Stanford Crushes is ending and I've still never been mentioned.\",\n",
       "        u'62.0'],\n",
       "       [u'R/55637eae3832f1cd781b4b2ff0e8b', u'',\n",
       "        u\"I get why people don't appreciate them, but I personally feel my humanities major is preparing me well for life outside of Stanford\",\n",
       "        u'83.0'],\n",
       "       [u'R/55637e958450b6c2f5aab21d0805e', u'',\n",
       "        u'Is the library open today?', u'3.0'],\n",
       "       [u'R/5563871a60a4461a8a766b7bc5889', u'',\n",
       "        u'Breaking a mirror is 7 years of bad luck. Breaking a condom is 18 years of bad luck. ',\n",
       "        u'231.0'],\n",
       "       [u'R/556386f37ca6188e4bbe53e0b82e6', u'',\n",
       "        u'Can somebody suggest a good place to get a tattoo around here?',\n",
       "        u'5.0'],\n",
       "       [u'R/55637f7dc893da0356bf71301d11b', u'',\n",
       "        u'Why do I get bored of being in a relationship?', u'14.0'],\n",
       "       [u'R/55637fe0e7d6943dc4f8dfc85cda8', u'ThanksFettyWap',\n",
       "        u\"I can't read the year 1738 normally anymore\", u'27.0'],\n",
       "       [u'R/556382601683013db13bac20e36c1', u'',\n",
       "        u'I have finally come out!! Feels so good! Thank you Jesus!',\n",
       "        u'59.0'],\n",
       "       [u'R/5563870eed7fbe0e3ec3cee7918fa', u'my mantra',\n",
       "        u'Just two more weeks', u'5.0'],\n",
       "       [u'R/55637fabd5cc2e67da9ae18cfc702', u'',\n",
       "        u\"Won't have my own room next year, gonna miss walking around pantsless \\U0001f61e\",\n",
       "        u'45.0'],\n",
       "       [u'R/5563843216e70b4398fb674139dcd', u'',\n",
       "        u\"I'm starting to realize that I don't like my roommate, but I already agreed to live together next year. Any advice?\",\n",
       "        u'17.0'],\n",
       "       [u'R/55638716c648a11b5a2de5fef6c62', u'On the edge',\n",
       "        u\"Is it even worth pursuing someone week 9 when we won't be in the same place for summer?\",\n",
       "        u'26.0'],\n",
       "       [u'R/5563d6f0d0440b31f41748d0bb11c', u'',\n",
       "        u'Any cute girls wanna talk? Dude visiting 19 chilling ', u'0.0'],\n",
       "       [u'R/5563d70f1437efc2b8e6906a70ac1', u'',\n",
       "        u'Welcome to Stanford: A magical place where dancing at Frost turns you into a white supremacist. ',\n",
       "        u'-inf'],\n",
       "       [u'R/5563d61e155f6b1f63447a97f7598', u'', u'What a fall ', u'-inf']], \n",
       "      dtype='<U131')"
      ]
     },
     "execution_count": 100,
     "metadata": {},
     "output_type": "execute_result"
    }
   ],
   "source": [
    "np.load(\"data/yak_grab_2015-05-25 19:24:11.720222.npy\")"
   ]
  },
  {
   "cell_type": "code",
   "execution_count": 101,
   "metadata": {
    "collapsed": false
   },
   "outputs": [
    {
     "data": {
      "text/plain": [
       "18"
      ]
     },
     "execution_count": 101,
     "metadata": {},
     "output_type": "execute_result"
    }
   ],
   "source": [
    "len(completed_yaks)"
   ]
  },
  {
   "cell_type": "code",
   "execution_count": 9,
   "metadata": {
    "collapsed": false
   },
   "outputs": [],
   "source": [
    "X = np.load(\"data/yak_grab_2015-05-26 17:12:38.840583.npy\")"
   ]
  },
  {
   "cell_type": "code",
   "execution_count": 11,
   "metadata": {
    "collapsed": false
   },
   "outputs": [
    {
     "data": {
      "text/plain": [
       "101"
      ]
     },
     "execution_count": 11,
     "metadata": {},
     "output_type": "execute_result"
    }
   ],
   "source": [
    "len(X)"
   ]
  },
  {
   "cell_type": "code",
   "execution_count": null,
   "metadata": {
    "collapsed": true
   },
   "outputs": [],
   "source": []
  }
 ],
 "metadata": {
  "kernelspec": {
   "display_name": "Python 2",
   "language": "python",
   "name": "python2"
  },
  "language_info": {
   "codemirror_mode": {
    "name": "ipython",
    "version": 2
   },
   "file_extension": ".py",
   "mimetype": "text/x-python",
   "name": "python",
   "nbconvert_exporter": "python",
   "pygments_lexer": "ipython2",
   "version": "2.7.9"
  }
 },
 "nbformat": 4,
 "nbformat_minor": 0
}
