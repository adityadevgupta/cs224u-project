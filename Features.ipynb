{
 "cells": [
  {
   "cell_type": "code",
   "execution_count": 136,
   "metadata": {
    "collapsed": false
   },
   "outputs": [],
   "source": [
    "import numpy as np\n",
    "from collections import defaultdict\n",
    "import csv"
   ]
  },
  {
   "cell_type": "code",
   "execution_count": 16,
   "metadata": {
    "collapsed": false
   },
   "outputs": [
    {
     "name": "stdout",
     "output_type": "stream",
     "text": [
      "[u'R/5563fb102e54cacef0463fb1f5f54' u'princeton' u''\n",
      " u'Is Perez crazy. Ancellotti is our last best hope' u'6.0']\n"
     ]
    }
   ],
   "source": [
    "dat = np.load('data/consolidations/yak_cons_2015-05-27 14:01:41.586356.npy')\n",
    "\n",
    "# dat[i, 0] id\n",
    "# dat[i, 1] uni\n",
    "# dat[i, 2] handle\n",
    "# dat[i, 3] yak\n",
    "# dat[i, 4] votes"
   ]
  },
  {
   "cell_type": "code",
   "execution_count": 76,
   "metadata": {
    "collapsed": false
   },
   "outputs": [],
   "source": [
    "# Warriner et. al. affect score import\n",
    "lines = [line.rstrip('\\n').split(\",\") for line in open('Ratings_Warriner_et_al.csv')]\n",
    "WARRINER_AFFECT = defaultdict(float)\n",
    "for line in lines[1:]:\n",
    "    WARRINER_AFFECT[line[1].lower()] = float(line[2])"
   ]
  },
  {
   "cell_type": "code",
   "execution_count": 133,
   "metadata": {
    "collapsed": false
   },
   "outputs": [],
   "source": [
    "# Feature functions\n",
    "\n",
    "'''\n",
    "Pointedness\n",
    "'''\n",
    "# Capitalization counter\n",
    "# https://github.com/MathieuCliche/Sarcasm_detector\n",
    "def cap_feature(yak):\n",
    "    counter = 0\n",
    "    thresh = 4 # for alternative feature below\n",
    "    for j in range(len(yak[3])):\n",
    "        features['Capitalization'] += int(yak[3][j].isupper())\n",
    "#     features['Capitalization'] = int(counter >= thresh)\n",
    "    return features\n",
    "    \n",
    "# Punctuation\n",
    "punc_marks = ['.', '...', ';', ':', '?', '!', '\\'', '\\\"']\n",
    "\n",
    "def punc_feature(yak):\n",
    "    features = defaultdict(float)\n",
    "    for i in punc_marks:\n",
    "        features[('Punctuation ' + i)] += float(i in yak[3])\n",
    "    return features\n",
    "\n",
    "'''\n",
    "Trending phrases\n",
    "bigram count by university\n",
    "'''\n",
    "\n",
    "# bigrams = {'univ' : ['gram gram', 'gram1 gram1']}\n",
    "bigrams = {'princeton' : ['best hope']}\n",
    "\n",
    "def bigram_feature(yak):\n",
    "    features = defaultdict(float)\n",
    "    for bigram in bigrams[yak[1]]:\n",
    "        if bigram.lower() in yak[3].lower():\n",
    "            features['Bigram count'] += 1\n",
    "    return features\n",
    "\n",
    "'''\n",
    "Delta affect and delta sentiment\n",
    "'''\n",
    "\n",
    "def affect_feature(yak):\n",
    "    features = defaultdict(float)\n",
    "    words = yak[3].split(\" \")\n",
    "    scores = np.zeros((len(words)))\n",
    "    for ind, word in enumerate(words):\n",
    "        scores[ind] = WARRINER_AFFECT[word.lower()]\n",
    "    features[\"Delta Affect\"] = (np.amax(scores) - np.amin(scores))\n",
    "    return features\n",
    "    \n",
    "def sentiment_feature(yak):\n",
    "    features = defaultdict(float)\n",
    "    features[\"Delta Sentiment\"] = 0.0\n",
    "    return features"
   ]
  },
  {
   "cell_type": "code",
   "execution_count": null,
   "metadata": {
    "collapsed": false
   },
   "outputs": [],
   "source": []
  },
  {
   "cell_type": "code",
   "execution_count": null,
   "metadata": {
    "collapsed": true
   },
   "outputs": [],
   "source": []
  }
 ],
 "metadata": {
  "kernelspec": {
   "display_name": "Python 2",
   "language": "python",
   "name": "python2"
  },
  "language_info": {
   "codemirror_mode": {
    "name": "ipython",
    "version": 2
   },
   "file_extension": ".py",
   "mimetype": "text/x-python",
   "name": "python",
   "nbconvert_exporter": "python",
   "pygments_lexer": "ipython2",
   "version": "2.7.6"
  }
 },
 "nbformat": 4,
 "nbformat_minor": 0
}
