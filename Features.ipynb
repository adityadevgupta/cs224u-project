{
 "cells": [
  {
   "cell_type": "code",
   "execution_count": 255,
   "metadata": {
    "collapsed": false
   },
   "outputs": [],
   "source": [
    "import numpy as np\n",
    "from collections import defaultdict\n",
    "import csv"
   ]
  },
  {
   "cell_type": "code",
   "execution_count": 256,
   "metadata": {
    "collapsed": false
   },
   "outputs": [],
   "source": [
    "dat = np.load('data/consolidations/yak_cons_2015-05-27 14:01:41.586356.npy')\n",
    "\n",
    "# dat[i, 0] id\n",
    "# dat[i, 1] uni\n",
    "# dat[i, 2] handle\n",
    "# dat[i, 3] yak\n",
    "# dat[i, 4] votes"
   ]
  },
  {
   "cell_type": "code",
   "execution_count": 257,
   "metadata": {
    "collapsed": false
   },
   "outputs": [],
   "source": [
    "# Warriner et. al. affect score import\n",
    "lines = [line.rstrip('\\n').split(\",\") for line in open('Ratings_Warriner_et_al.csv')]\n",
    "WARRINER_AFFECT = {}\n",
    "for line in lines[1:]:\n",
    "    WARRINER_AFFECT[line[1].lower()] = float(line[2])"
   ]
  },
  {
   "cell_type": "code",
   "execution_count": 292,
   "metadata": {
    "collapsed": false
   },
   "outputs": [],
   "source": [
    "# SentiStrength score importing\n",
    "lines = [line.rstrip('\\n') for line in open('SentStrength_Data_Sept2011/EmotionLookupTable.txt')]\n",
    "line_splits = [line.split() for line in lines]\n",
    "SENTI_STRENGTH = {}\n",
    "for line in line_splits:\n",
    "    SENTI_STRENGTH[line[0].rstrip('*')] =  float(line[1])\n",
    "    \n",
    "# Booster word list\n",
    "lines = [line.rstrip('\\n') for line in open('SentStrength_Data_Sept2011/BoosterWordList.txt')]\n",
    "line_splits = [line.split() for line in lines]\n",
    "SENTI_STRENGTH = {}\n",
    "for line in line_splits:\n",
    "    SENTI_STRENGTH[line[0].rstrip('*')] =  float(line[1])"
   ]
  },
  {
   "cell_type": "code",
   "execution_count": 302,
   "metadata": {
    "collapsed": false
   },
   "outputs": [],
   "source": [
    "''' FEATURE FUNCTIONS\n",
    "'''\n",
    "\n",
    "# Capitalization counter\n",
    "# https://github.com/MathieuCliche/Sarcasm_detector\n",
    "def cap_feature(yak):\n",
    "    counter = 0\n",
    "    thresh = 4 # for alternative feature below\n",
    "    for j in range(len(yak[2])):\n",
    "        features['Capitalization'] += int(yak[2][j].isupper())\n",
    "#     features['Capitalization'] = int(counter >= thresh)\n",
    "    return features\n",
    "    \n",
    "# Punctuation\n",
    "punc_marks = ['.', '...', ';', ':', '?', '!', '\\'', '\\\"']\n",
    "def punc_feature(yak):\n",
    "    features = defaultdict(float)\n",
    "    for i in punc_marks:\n",
    "        features[('Punctuation ' + i)] += float(i in yak[2])\n",
    "    return features\n",
    "\n",
    "# Delta affect\n",
    "def imbalance_feature(yak):\n",
    "    features = defaultdict(float)\n",
    "    features[\"Delta Affect\"] = float(0.0)\n",
    "    features[\"Delta Sentiment\"] = float(0.0)\n",
    "    \n",
    "    words = yak[2].split(\" \")\n",
    "    affect = np.array([])\n",
    "    senti = np.array([])\n",
    "\n",
    "    for word in words:\n",
    "        if word.lower() in WARRINER_AFFECT:\n",
    "            affect = np.append(affect, WARRINER_AFFECT[word.lower()])\n",
    "        if word.lower() in SENTI_STRENGTH:\n",
    "            senti = np.append(senti, SENTI_STRENGTH[word.lower()])  \n",
    "    \n",
    "    if affect.size > 0:\n",
    "        features[\"Delta Affect\"] = float(np.amax(affect) - np.amin(affect)) \n",
    "    if senti.size > 0:\n",
    "        features[\"Delta Sentiment\"] = float(np.amax(senti) - np.amin(senti)) \n",
    "    \n",
    "    return features\n",
    "    \n",
    "# Is the sentence interrogative?\n",
    "def interrogative_feature(yak):\n",
    "    features = defaultdict(float)\n",
    "    model_words = ['what', 'where', 'when', 'why', 'who']\n",
    "    auxiliary_verbs = ['am', 'is', 'are', 'was', 'were', 'am', 'do', 'did', 'does']\n",
    "    words = yak[2].split(\" \")\n",
    "    \n",
    "    is_interrogative = ((words[0] in model_words) and \n",
    "                        (words[1] in auxiliary_verbs) and ('?' in yak[2]))\n",
    "    features[\"Interrogative\"] = float(is_interrogative)\n",
    "    return features\n",
    "\n",
    "# \"section leader\" and \"section leaders\"\n",
    "# punctuation cutting off yaks.\n",
    "def bigram_feature(yak):\n",
    "    features = defaultdict(float)\n",
    "    words = yak[2].lower().split()\n",
    "    school = yak[0]\n",
    "    for ind in xrange(len(words) - 1):\n",
    "        features[(school, words[ind], words[ind + 1])] += 1.0\n",
    "    return features\n",
    "\n",
    "# does the yak contain a handle?\n",
    "def handle_feature(yak):\n",
    "    features = defaultdict(float)\n",
    "    features[\"Handle\"] = float(yak[1] != '')\n",
    "    return features"
   ]
  },
  {
   "cell_type": "code",
   "execution_count": 305,
   "metadata": {
    "collapsed": false
   },
   "outputs": [
    {
     "data": {
      "text/plain": [
       "defaultdict(<type 'float'>, {'Handle': 0.0})"
      ]
     },
     "execution_count": 305,
     "metadata": {},
     "output_type": "execute_result"
    }
   ],
   "source": [
    "handle_feature(dat[0])"
   ]
  },
  {
   "cell_type": "code",
   "execution_count": null,
   "metadata": {
    "collapsed": true
   },
   "outputs": [],
   "source": []
  }
 ],
 "metadata": {
  "kernelspec": {
   "display_name": "Python 2",
   "language": "python",
   "name": "python2"
  },
  "language_info": {
   "codemirror_mode": {
    "name": "ipython",
    "version": 2
   },
   "file_extension": ".py",
   "mimetype": "text/x-python",
   "name": "python",
   "nbconvert_exporter": "python",
   "pygments_lexer": "ipython2",
   "version": "2.7.6"
  }
 },
 "nbformat": 4,
 "nbformat_minor": 0
}
